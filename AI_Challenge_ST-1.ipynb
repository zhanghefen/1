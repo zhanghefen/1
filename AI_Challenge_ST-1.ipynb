{
 "cells": [
  {
   "cell_type": "markdown",
   "metadata": {},
   "source": [
    "## 2024년도 도전학기 '빅데이터와 인공지능을 활용한 시스템 강건설계' AI 챌린지"
   ]
  },
  {
   "cell_type": "markdown",
   "metadata": {
    "id": "9JLk3yutSBVV"
   },
   "source": [
    "#### - AI 챌린지 목표: 실습내용 기반 데이터 가공 능력, 인공지능 모델 학습 능력 평가\n",
    "> #### <font color=red>FFT 데이터 기반 1DCNN 고장진단 만들기</font>\n",
    "#### - 제공 데이터 구성 : 데이터 챌린지에서 사용된 정상 및 고장 용접 데이터\n",
    "#### - 데이터 저장 시 index = None, header = None 필수!\n",
    "#### - 총 3단계의 AI 챌린지를 수행하며, 단계별 결과가 저장된 폴더(Result) 내의 결과물을 1개 압축파일(.zip)로 제출\n",
    "#### - <font color=blue>AI 챌린지에 대한 질의는 \"김규민\", \"이예림\", \"이현석\" 조교에게 아이캠퍼스 메세지를 통해 진행</font>"
   ]
  },
  {
   "cell_type": "markdown",
   "metadata": {},
   "source": [
    ".\n",
    "\n",
    ".\n",
    "\n",
    ".\n",
    "\n"
   ]
  },
  {
   "cell_type": "markdown",
   "metadata": {
    "id": "s3r0NursSBVX"
   },
   "source": [
    "## 라이브러리 import"
   ]
  },
  {
   "cell_type": "code",
   "execution_count": null,
   "metadata": {
    "executionInfo": {
     "elapsed": 1238,
     "status": "ok",
     "timestamp": 1649470130092,
     "user": {
      "displayName": "공과대학/최영운",
      "userId": "17538933824946727174"
     },
     "user_tz": -540
    },
    "id": "fjOhm7H7SBVX"
   },
   "outputs": [],
   "source": []
  },
  {
   "cell_type": "markdown",
   "metadata": {},
   "source": [
    "# [1단계] 데이터 불러오기 & FFT 실행하기(15점)\n",
    "> #### Data 폴더 내부 정상/고장 각각 150개씩\n",
    "> #### 데이터는 가속도/전압/전류 3개 센서, 샘플링 주파수 12800Hz, 약 0.2167초간의 데이터\n",
    "> #### 모든 데이터를 불러와 TotalData(300, 2774, 3)로 만든 후 모든 센서에 대해 FFT 적용\n",
    "> #### FFT 적용된 데이터 이름은 TotalData_FFT(300, 1387, 3)\n",
    "> #### <font color=red>★ TotalData, TotalData_FFT 순서: Normal_1, Normal_2, ..., Normal_150, Abnormal_1, Abnormal_2, ..., Abnormal_150</font>\n",
    "> #### <font color=red>★ TotalData, TotalData_FFT 이름 수정 X"
   ]
  },
  {
   "cell_type": "code",
   "execution_count": null,
   "metadata": {},
   "outputs": [],
   "source": [
    "NoOfData   =                    # 데이터 개수 (정상/고장 각각)\n",
    "DataLength =                    # 데이터 길이\n",
    "NoOfSensor =                    # 센서 개수\n",
    "\n",
    "NoOfData, DataLength, NoOfSensor"
   ]
  },
  {
   "cell_type": "markdown",
   "metadata": {},
   "source": [
    "#### 데이터 불러오기 (TotalData 만들기)"
   ]
  },
  {
   "cell_type": "code",
   "execution_count": null,
   "metadata": {},
   "outputs": [],
   "source": [
    "# 전체 데이터 만들기\n",
    "\n",
    "TotalData = np.zeros([      ]) # 데이터 빈집\n",
    "\n",
    "for i in range():\n",
    "\n",
    "\n",
    "TotalData.shape"
   ]
  },
  {
   "cell_type": "markdown",
   "metadata": {},
   "source": [
    "#### FFT 적용하기 (TotalData_FFT 만들기)\n",
    "- FFT 결과 중 Amplitude 값 저장하기"
   ]
  },
  {
   "cell_type": "code",
   "execution_count": null,
   "metadata": {},
   "outputs": [],
   "source": [
    "Fs         = 12800\n",
    "FFT_length = 1387"
   ]
  },
  {
   "cell_type": "code",
   "execution_count": null,
   "metadata": {},
   "outputs": [],
   "source": [
    "# Compute FFT\n",
    "TotalData_FFT = np.zeros([NoOfData*2, FFT_length, NoOfSensor])\n",
    "\n",
    "for i in range(NoOfData*2):\n",
    "    for j in range(NoOfSensor):\n",
    "        x = \n",
    "\n",
    "        # FFT 적용 코드 \n",
    "\n",
    "\n",
    "        \n",
    "        TotalData_FFT[    ] = \n",
    "        \n",
    "TotalData_FFT.shape"
   ]
  },
  {
   "cell_type": "markdown",
   "metadata": {},
   "source": [
    "### 1단계 결과물을 제출용 파일로 저장(수강생 번호 외 코드 수정 X)"
   ]
  },
  {
   "cell_type": "code",
   "execution_count": null,
   "metadata": {},
   "outputs": [],
   "source": [
    "StudentNo = 0   # 수강생 번호 입력\n",
    "\n",
    "# 아래는 수정 금지\n",
    "Path1 = './Result/ST%d_AC1_1.csv'%StudentNo\n",
    "Path2 = './Result/ST%d_AC1_2.csv'%StudentNo\n",
    "Path3 = './Result/ST%d_AC1_3.csv'%StudentNo\n",
    "\n",
    "pd.DataFrame(TotalData    [102]).to_csv(Path1, header=None, index=None)\n",
    "pd.DataFrame(TotalData_FFT[118]).to_csv(Path2, header=None, index=None)\n",
    "pd.DataFrame(TotalData_FFT[213]).to_csv(Path3, header=None, index=None)"
   ]
  },
  {
   "cell_type": "markdown",
   "metadata": {},
   "source": [
    "# [2단계] 데이터 분할 및 레이블 만들기(10점)\n",
    "> #### TrainData : ValidData = 4 : 1 (필수: 실습과 동일한 방식으로 분할)\n",
    "> #### 정상 레이블: [1, 0], 고장 레이블: [0, 1]\n",
    "> #### <font color=red>★ TrainData, ValidData 이름 수정 X"
   ]
  },
  {
   "cell_type": "markdown",
   "metadata": {},
   "source": [
    "#### 데이터 분할"
   ]
  },
  {
   "cell_type": "code",
   "execution_count": null,
   "metadata": {},
   "outputs": [],
   "source": [
    "NoOfValid  =     # 정상/고장 별 검증 데이터 개수\n",
    "NoOftrain  =     # 정상/고장 별 학습 데이터 개수"
   ]
  },
  {
   "cell_type": "code",
   "execution_count": null,
   "metadata": {},
   "outputs": [],
   "source": [
    "# 정상 및 고장 별 학습/검증 데이터 분할\n",
    "\n",
    "\n",
    "\n",
    "TrainData = np.concatenate(         )\n",
    "ValidData = np.concatenate(         )"
   ]
  },
  {
   "cell_type": "markdown",
   "metadata": {},
   "source": [
    "#### 레이블 만들기"
   ]
  },
  {
   "cell_type": "code",
   "execution_count": null,
   "metadata": {},
   "outputs": [],
   "source": [
    "TrainLabel = np.zeros\n",
    "ValidLabel = np.zeros\n",
    "\n",
    "\n",
    "TrainLabel = pd.DataFrame(TrainLabel) # 수정 금지\n",
    "ValidLabel = pd.DataFrame(ValidLabel) # 수정 금지\n",
    "\n",
    "TrainLabel.shape, ValidLabel.shape"
   ]
  },
  {
   "cell_type": "markdown",
   "metadata": {},
   "source": [
    "### 2단계 결과물을 제출용 파일로 저장(수강생 번호 외 코드 수정 X)"
   ]
  },
  {
   "cell_type": "code",
   "execution_count": null,
   "metadata": {},
   "outputs": [],
   "source": [
    "# StudentNo = 0   # 수강생 번호 입력\n",
    "\n",
    "# 아래는 수정 금지\n",
    "Path1 = './Result/ST%d_AC2_1.csv'%StudentNo\n",
    "Path2 = './Result/ST%d_AC2_2.csv'%StudentNo\n",
    "Path3 = './Result/ST%d_AC2_3.csv'%StudentNo\n",
    "Path4 = './Result/ST%d_AC2_4.csv'%StudentNo\n",
    "\n",
    "pd.DataFrame(TrainData[191]).to_csv(Path1, header=None, index=None)\n",
    "pd.DataFrame(ValidData[37 ]).to_csv(Path2, header=None, index=None)\n",
    "TrainLabel                  .to_csv(Path3, header=None, index=None)\n",
    "ValidLabel                  .to_csv(Path4, header=None, index=None)"
   ]
  },
  {
   "cell_type": "markdown",
   "metadata": {},
   "source": [
    "# [3단계] CNN 모델 만들기 (15점)\n",
    "> ### 모델 구조\n",
    "> Input layer > 1D Conv. layer 1 > 1D Conv. layer 2 > Max pooling layer > 1D Conv. layer 3 > 1D Conv. layer 4 > Global average pooling layer > Hidden layer 1 > Hidden layer 2 > Output layer\n",
    "> ### Layer 별 파라미터\n",
    "> Conv. layer: filter 수 4개, kernel 크기 4, stride 2, same padding, activation func. relu\n",
    "> \n",
    "> Max pooling layer: pooling 크기 3, stride 3\n",
    "> \n",
    "> Hidden layer: 뉴런 수 32, activation func. relu"
   ]
  },
  {
   "cell_type": "markdown",
   "metadata": {},
   "source": [
    "#### 모델 구조 설계"
   ]
  },
  {
   "cell_type": "code",
   "execution_count": null,
   "metadata": {},
   "outputs": [],
   "source": [
    "learningRate  = 0.001 #수정 금지\n",
    "Epoch         = 100   #수정 금지"
   ]
  },
  {
   "cell_type": "code",
   "execution_count": null,
   "metadata": {},
   "outputs": [],
   "source": [
    "def CNN(input_data):\n",
    "    keras.backend.clear_session()        # 수정 금지\n",
    "    tf.keras.utils.set_random_seed(777)  # 수정 금지\n",
    "\n",
    "    model = keras.Sequential()\n",
    "    \n",
    "    model.compile(optimizer= keras.optimizers.Adam(learning_rate = learningRate), # 수정 금지\n",
    "                  loss=keras.losses.CategoricalCrossentropy(),                    # 수정 금지\n",
    "                  metrics=['accuracy'])                                           # 수정 금지\n",
    "    return model"
   ]
  },
  {
   "cell_type": "markdown",
   "metadata": {},
   "source": [
    "#### 모델 학습 (학습과정 \"hist\"에 저장 필수!)"
   ]
  },
  {
   "cell_type": "code",
   "execution_count": null,
   "metadata": {},
   "outputs": [],
   "source": [
    "# 모델 만들기\n",
    "\n",
    "\n",
    "# 모델 학습\n"
   ]
  },
  {
   "cell_type": "markdown",
   "metadata": {},
   "source": [
    "### 3단계 결과물을 제출용 파일로 저장(수강생 번호 외 코드 수정 X)"
   ]
  },
  {
   "cell_type": "code",
   "execution_count": null,
   "metadata": {},
   "outputs": [],
   "source": [
    "# StudentNo = 0   # 수강생 번호 입력\n",
    "\n",
    "# 아래는 수정 금지\n",
    "Path1 = './Result/ST%d_AC3_1.keras'%StudentNo\n",
    "Path2 = './Result/ST%d_AC3_2.csv'%StudentNo\n",
    "Path3 = './Result/ST%d_AC3_3.csv'%StudentNo\n",
    "\n",
    "\n",
    "CNN_model.save(Path1)                                                                                           \n",
    "pd.DataFrame(hist.history                                         ).to_csv(Path2, header=None, index=None)\n",
    "pd.DataFrame(CNN_model.evaluate(ValidData,  ValidLabel, verbose=0)).to_csv(Path3, header=None, index=None)"
   ]
  },
  {
   "cell_type": "markdown",
   "metadata": {},
   "source": [
    ".\n",
    "\n",
    ".\n",
    "\n",
    "."
   ]
  },
  {
   "cell_type": "markdown",
   "metadata": {},
   "source": [
    "# [최종] 해당 코드 파일을 최종 실행한 후 Result 폴더에 넣기\n",
    "\n",
    "### 1. 해당 코드 파일명의 마지막에 본인 수강생 번호로 변경(ex: 수강생 번호 13번일 경우, AI_Challenge_ST-13)\n",
    "### 2. 모든 코드를 작성한 후 \"Kernel\" > \"Restart Kernel and Run All Cells...\"를 수행한 후 Result 폴더에 넣기"
   ]
  },
  {
   "cell_type": "markdown",
   "metadata": {
    "id": "dKykRphzSBVr"
   },
   "source": [
    "# ● 결과가 저장된 폴더(Result) 내의 모든 파일을 하나의 zip파일로 제출\n",
    "> #### 압축파일 이름 ST(수강생번호)_AC.zip (예시: 한 자리 수 'ST0_AC', 두 자리 수 'ST00_AC', 세 자리 수 'ST000_AC',)\n",
    "> #### Data 폴더는 압축 필요 없음!\n",
    "> #### 영상의 가이드와 다른 방식으로 압축할 경우 감점 (필히 AI 챌린지 가이드 영상 확인 !)"
   ]
  }
 ],
 "metadata": {
  "kernelspec": {
   "display_name": "Python 3 (ipykernel)",
   "language": "python",
   "name": "python3"
  },
  "language_info": {
   "codemirror_mode": {
    "name": "ipython",
    "version": 3
   },
   "file_extension": ".py",
   "mimetype": "text/x-python",
   "name": "python",
   "nbconvert_exporter": "python",
   "pygments_lexer": "ipython3",
   "version": "3.12.4"
  }
 },
 "nbformat": 4,
 "nbformat_minor": 4
}
